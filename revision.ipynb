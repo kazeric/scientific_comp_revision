{
 "cells": [
  {
   "cell_type": "code",
   "execution_count": 62,
   "metadata": {},
   "outputs": [
    {
     "name": "stdout",
     "output_type": "stream",
     "text": [
      "this is a \t multiline \n",
      " comment\n"
     ]
    }
   ],
   "source": [
    "print(\"this is a \\t multiline \\n comment\")"
   ]
  },
  {
   "cell_type": "code",
   "execution_count": 63,
   "metadata": {},
   "outputs": [
    {
     "name": "stdout",
     "output_type": "stream",
     "text": [
      "92\n",
      "32\n",
      "23\n",
      "1\n",
      "two\n",
      "True\n",
      "<class 'bool'>\n",
      "<class 'str'>\n",
      "True\n"
     ]
    }
   ],
   "source": [
    "#varibles\n",
    "#can start with an underscore \n",
    "_xvar = 92\n",
    "#are case sensitive\n",
    "Xvar = 32\n",
    "xvar = 23\n",
    "\n",
    "print(_xvar)\n",
    "print(Xvar)\n",
    "print(xvar)\n",
    " #multiple assignment \n",
    " \n",
    "_xvar, Xvar,xvar = 1,\"two\",True\n",
    "\n",
    "print(_xvar)\n",
    "print(Xvar)\n",
    "print(xvar)\n",
    "\n",
    "print(type(xvar))\n",
    "\n",
    "xvar=str(xvar)\n",
    "\n",
    "print(type(xvar))\n",
    "print(xvar)\n",
    "\n"
   ]
  },
  {
   "cell_type": "code",
   "execution_count": 64,
   "metadata": {},
   "outputs": [
    {
     "name": "stdout",
     "output_type": "stream",
     "text": [
      "hello my name iseric is mE and ime 11\n",
      "Eric is me \n",
      "ERIC IS ME \n",
      "eric is me \n",
      "ERIC IS Me \n",
      "eric is mE  11\n",
      "eric be mE \n",
      "1\n"
     ]
    }
   ],
   "source": [
    "#strings\n",
    "name =\"eric is mE \"\n",
    "print(\"hello my name is\" + name + \"and ime 11\")\n",
    "print(name.capitalize())\n",
    "print(name.upper())\n",
    "print(name.lower())\n",
    "print(name.swapcase())\n",
    "print(name, len(name))\n",
    "print(name.replace(\"is\",\"be\"))\n",
    "print(name.count('e'))"
   ]
  },
  {
   "cell_type": "code",
   "execution_count": 65,
   "metadata": {},
   "outputs": [
    {
     "name": "stdout",
     "output_type": "stream",
     "text": [
      "[1, 2, 7, 3, 4, 5]\n",
      "<class 'list'>\n",
      "<class 'tuple'>\n",
      "[1, 2, 7, 3, 4, 5, 6]\n",
      "[2, 7, 3, 4, 5, 6]\n",
      "[6, 5, 4, 3, 7, 2]\n"
     ]
    }
   ],
   "source": [
    "#lists\n",
    "numbers = [1,2,7,3,4,5]\n",
    "\n",
    "print(numbers)\n",
    "print(type(numbers))\n",
    "number= tuple(numbers)\n",
    "print(type(number))\n",
    "numbers.append(6)\n",
    "print(numbers)\n",
    "numbers.pop(0)\n",
    "print(numbers)\n",
    "numbers.reverse()\n",
    "print(numbers)"
   ]
  },
  {
   "cell_type": "code",
   "execution_count": 66,
   "metadata": {},
   "outputs": [
    {
     "data": {
      "text/plain": [
       "<function print>"
      ]
     },
     "execution_count": 66,
     "metadata": {},
     "output_type": "execute_result"
    }
   ],
   "source": [
    "#tupples\n",
    "number=(2,3,4,5,6)\n",
    "print\n"
   ]
  },
  {
   "cell_type": "code",
   "execution_count": 67,
   "metadata": {},
   "outputs": [
    {
     "data": {
      "text/plain": [
       "' so theres four parametes when it comes to sets lists tuples and dictionaries  \\nchangebility \\nordered and indexed \\nduplicate members \\n\\n lists allow for all of them \\n tupples are unchangeable lists\\n sets are the opposite of tupples \\n dictionary is an indexed set'"
      ]
     },
     "execution_count": 67,
     "metadata": {},
     "output_type": "execute_result"
    }
   ],
   "source": [
    "#summary \n",
    "''' so theres four parametes when it comes to sets lists tuples and dictionaries  \n",
    "changebility \n",
    "ordered and indexed \n",
    "duplicate members \n",
    "\n",
    " lists allow for all of them \n",
    " tupples are unchangeable lists\n",
    " sets are the opposite of tupples \n",
    " dictionary is an indexed set'''"
   ]
  },
  {
   "cell_type": "code",
   "execution_count": 68,
   "metadata": {},
   "outputs": [
    {
     "name": "stdout",
     "output_type": "stream",
     "text": [
      "hello world hello\n",
      "2\n"
     ]
    }
   ],
   "source": [
    "def sayHi(name):\n",
    "    print(f\"hello world {name}\")\n",
    "    \n",
    "n =\"eric\"\n",
    "\n",
    "sayHi(\"hello\")\n",
    "    \n",
    "    \n",
    "print(7//3)"
   ]
  },
  {
   "cell_type": "code",
   "execution_count": 69,
   "metadata": {},
   "outputs": [
    {
     "name": "stdout",
     "output_type": "stream",
     "text": [
      "30 is greater than 10\n",
      "5 is greater than 2 and less than or equal to 10\n",
      "5 is greater than 2 and less than or equal to 10\n"
     ]
    }
   ],
   "source": [
    "x=10\n",
    "y=5\n",
    "w=10\n",
    "z= 30\n",
    "if x >z:\n",
    "    print(f\"{x} is greater than {z}\")\n",
    "else:\n",
    "    print(f\"{z} is greater than {x}\")\n",
    "    \n",
    "    \n",
    "if y > 2:\n",
    "    if y <= 10:\n",
    "        print(f\"{y} is greater than 2 and less than or equal to 10\")\n",
    "        \n",
    "if y > 2 and y<=10:\n",
    "    print(f\"{y} is greater than 2 and less than or equal to 10\")"
   ]
  },
  {
   "cell_type": "code",
   "execution_count": 70,
   "metadata": {},
   "outputs": [
    {
     "name": "stdout",
     "output_type": "stream",
     "text": [
      "current person John\n",
      "current person Paul\n",
      "current person Sarah\n",
      "current person Susan\n",
      "number: 1\n",
      "number: 2\n",
      "number: 3\n",
      "number: 4\n",
      "number: 5\n",
      "number: 6\n",
      "number: 7\n",
      "number: 8\n",
      "number: 9\n",
      "number: 10\n"
     ]
    }
   ],
   "source": [
    "#loop\n",
    "people=['John', 'Paul', 'Sarah', 'Susan']\n",
    "for x in people:\n",
    "    print(f\"current person {x}\")\n",
    "    \n",
    "for i in range(1, 11): #custom range\n",
    "    print(f'number: {i}')"
   ]
  },
  {
   "cell_type": "code",
   "execution_count": 71,
   "metadata": {},
   "outputs": [
    {
     "name": "stdout",
     "output_type": "stream",
     "text": [
      "Before\n",
      "Name: Ram\n",
      "ID: T0166\n",
      "Office name: XYZ Private Limited\n",
      "After\n",
      "Name: Ram\n",
      "ID: T0166\n",
      "Office name: PQR Private Limited\n",
      "Name: eric\n",
      "ID: whatsgood\n",
      "Office name: PQR Private Limited\n"
     ]
    }
   ],
   "source": [
    "#classes\n",
    "class User:\n",
    "    def __init__(self, name , email,age):\n",
    "        self.name=name\n",
    "        self.email = email\n",
    "        self.age=age\n",
    "        def greeting(self):\n",
    "            return (f\"My name is {self.name} and I am {self.age}\")\n",
    "        def hasBirthday(self):\n",
    "            self.age +=1\n",
    "            \n",
    "            \n",
    "class Customer(User):\n",
    "    def __inti__(self, name, email, age):\n",
    "        self.name=name\n",
    "        self.email = email\n",
    "        self.age=age\n",
    "        self.balance\n",
    "\n",
    "\n",
    "\n",
    "class Employee:\n",
    "    # Class variable\n",
    "    office_name = 'XYZ Private Limited'\n",
    "\n",
    "    # Constructor\n",
    "    def __init__(self, employee_name, employee_ID):\n",
    "        self.employee_name = employee_name \n",
    "        self.employee_ID = employee_ID\n",
    "  \n",
    "    def show(self):\n",
    "        print(\"Name:\", self.employee_name)\n",
    "        print(\"ID:\", self.employee_ID)\n",
    "        print(\"Office name:\", Employee.office_name)\n",
    "   \n",
    "# create Object\n",
    "e2= Employee(\"eric\",  \"whatsgood\")\n",
    "e1= Employee('Ram', 'T0166')\n",
    "print('Before')\n",
    "e1.show()\n",
    "\n",
    "\n",
    "\n",
    "# Modify class variable\n",
    "Employee.office_name = 'PQR Private Limited'\n",
    "print('After')\n",
    "e1.show()\n",
    "e2.show()"
   ]
  },
  {
   "cell_type": "code",
   "execution_count": 72,
   "metadata": {},
   "outputs": [
    {
     "name": "stdout",
     "output_type": "stream",
     "text": [
      "[1, 2, 3]\n"
     ]
    }
   ],
   "source": [
    "#recurssion \n",
    "#function for factorials \n",
    "\n",
    "def factorial(n):\n",
    "    if n==0:\n",
    "        return 1\n",
    "    else:\n",
    "        fatc= n*factorial(n-1)\n",
    "        return fatc\n",
    "    \n",
    "factorial(5)\n",
    "\n",
    "#summing a list\n",
    "def sum(list, start, end):\n",
    "    if start>end:\n",
    "        return 0\n",
    "    else:\n",
    "        asum= list[start] + sum(list, start+1,end)\n",
    "        return asum\n",
    "\n",
    "list1 = [1,2,3,4]\n",
    "list2 = list1[0:3]\n",
    "\n",
    "sum(list1,0,3)\n",
    "\n",
    "#fibinochi number \n",
    "def fib(n):\n",
    "    if n==0:\n",
    "        return 1\n",
    "    elif n==1:\n",
    "        return 1\n",
    "    else:\n",
    "        return fib(n-1)+fib(n-2)\n",
    "    \n",
    "fib(6)\n",
    "print(list2)\n",
    "\n"
   ]
  },
  {
   "cell_type": "code",
   "execution_count": 73,
   "metadata": {},
   "outputs": [
    {
     "name": "stdout",
     "output_type": "stream",
     "text": [
      "insufficient balance \n",
      "520\n"
     ]
    }
   ],
   "source": [
    "class BankAccount(object):\n",
    "    interest_rate =0.3\n",
    "    def __init__(self,name,number,balance):\n",
    "        self.name=name\n",
    "        self.number=number\n",
    "        self.balance=balance \n",
    "        \n",
    "        return\n",
    "    def deposit(self,amount):\n",
    "        self.balance += amount \n",
    "      \n",
    "    \n",
    "    def widthdraw(self,amount):\n",
    "        if amount>self.balance:\n",
    "            print('insufficient balance ')\n",
    "        else:\n",
    "            self.balance = self.balance - amount\n",
    "       \n",
    "    \n",
    "\n",
    "b1=BankAccount('eric',12345,500)\n",
    "\n",
    "b1.deposit(20)\n",
    "b1.widthdraw(2000)\n",
    "\n",
    "print(b1.balance)"
   ]
  },
  {
   "cell_type": "code",
   "execution_count": 74,
   "metadata": {},
   "outputs": [
    {
     "name": "stdout",
     "output_type": "stream",
     "text": [
      "done\n"
     ]
    }
   ],
   "source": [
    "try:\n",
    "    list = 10*[0]\n",
    "    x = list[2]\n",
    "    print(\"done\")\n",
    "except IndexError:\n",
    "    print(\"hello\")"
   ]
  },
  {
   "cell_type": "code",
   "execution_count": 97,
   "metadata": {},
   "outputs": [],
   "source": [
    "#code for finding the most frequent word \n",
    "def most_frequent_word(filename):\n",
    "    # open the file\n",
    "    with open(filename, 'r') as f:\n",
    "        # read the file and split it into words\n",
    "        words = f.read().split()\n",
    "        print(type(words))\n",
    "\n",
    "    # create a dictionary to store the frequency of each word\n",
    "    freq_dict = {}\n",
    "    for word in words:\n",
    "        if word in freq_dict:\n",
    "            freq_dict[word] += 1\n",
    "        else:\n",
    "            freq_dict[word] = 1\n",
    "\n",
    "    # sort the dictionary by frequency in descending order\n",
    "    sorted_dict = sorted(freq_dict.items(), key=lambda x: x[1], reverse=True)\n",
    "\n",
    "    # return the most frequent word\n",
    "    return sorted_dict[0][0]"
   ]
  },
  {
   "cell_type": "code",
   "execution_count": 106,
   "metadata": {},
   "outputs": [
    {
     "name": "stdout",
     "output_type": "stream",
     "text": [
      "['a', 'b', 'c']\n"
     ]
    }
   ],
   "source": [
    "#dicts\n",
    "ex_dict = {\"a\": \"anteater\", \"b\": \"bumblebee\", \"c\": \"cheetah\"}\n",
    "\n",
    "# ke = list(ex_dict)\n",
    "# dict_keys([\"a\",\"b\",\"c\"])\n",
    "my_list = []\n",
    "for i in ex_dict.keys():\n",
    "    my_list.append(i)\n",
    "\n",
    "print(my_list)\n",
    "\n",
    "# ex_dict.values()\n",
    "# # dict_values([\"anteater\", \"bumblebee\", \"cheetah\"])\n",
    "\n",
    "# ex_dict.items()"
   ]
  },
  {
   "cell_type": "code",
   "execution_count": 76,
   "metadata": {},
   "outputs": [
    {
     "name": "stdout",
     "output_type": "stream",
     "text": [
      " Roof found at x= 1.121195\n"
     ]
    }
   ],
   "source": [
    "#bisection method \n",
    "def f(x):\n",
    "    return x**20-x**16-x**8-x\n",
    "\n",
    "a=1\n",
    "b=2\n",
    "\n",
    "tolerance = 1e-6\n",
    "max_iterations = 100\n",
    "\n",
    "for i in range(max_iterations):\n",
    "    c = (a+b)/2\n",
    "    \n",
    "    if abs(f(c))<tolerance:\n",
    "        print(f\" Roof found at x={c: 6f}\")\n",
    "        break\n",
    "    elif f(c)*f(a)<0:\n",
    "        b=c\n",
    "    else:\n",
    "        a=c\n",
    "        "
   ]
  },
  {
   "cell_type": "code",
   "execution_count": 77,
   "metadata": {},
   "outputs": [
    {
     "name": "stdout",
     "output_type": "stream",
     "text": [
      "Root found at x= 1.121195\n"
     ]
    }
   ],
   "source": [
    "#newton raphsion method\n",
    "def f(x):\n",
    "    return x**20-x**16-x**8-x\n",
    "\n",
    "def df(x):\n",
    "    return 20*x**19-16*x**15-8*x**7-1\n",
    "\n",
    "x0 = 2\n",
    "tolerance = 1e-6\n",
    "max_iterations = 100\n",
    "\n",
    "\n",
    "\n",
    "for i in range (max_iterations):\n",
    "    fx = f(x0)\n",
    "    dfx=df(x0)\n",
    "    x1=x0-(fx/dfx)\n",
    "    if abs(f(x1))<tolerance:\n",
    "        print(f\"Root found at x={x1: 6f}\")\n",
    "        break\n",
    "    else:\n",
    "        x0=x1"
   ]
  },
  {
   "cell_type": "code",
   "execution_count": 96,
   "metadata": {},
   "outputs": [
    {
     "name": "stdout",
     "output_type": "stream",
     "text": [
      "2.3333333333333335\n"
     ]
    }
   ],
   "source": [
    "#intergrate function\n",
    "from scipy.integrate import quad\n",
    "def integrand(x):\n",
    "    return x**2 \n",
    "\n",
    "I = quad(integrand, 1, 2)\n",
    "answer = I[0]\n",
    "print(answer)\n"
   ]
  },
  {
   "cell_type": "code",
   "execution_count": 87,
   "metadata": {},
   "outputs": [
    {
     "data": {
      "image/png": "[encoded data removed]",
      "text/plain": [
       "<Figure size 640x480 with 1 Axes>"
      ]
     },
     "metadata": {},
     "output_type": "display_data"
    }
   ],
   "source": [
    "#using odient\n",
    "import numpy as np\n",
    "from scipy.integrate import odeint\n",
    "import matplotlib.pyplot as plt\n",
    "\n",
    "def dy_dt(y, t):\n",
    "    return (1 - 2*t)*y**2\n",
    "\n",
    "tspan = np.linspace(2, 10, 100) # define the time span for integration\n",
    "y0 = 1 # initial condition\n",
    "z = 1.5 # define z for exact solution\n",
    "y_exact = tspan / (z**2 - z + 1) # compute the exact solution\n",
    "y_approx = odeint(dy_dt, y0, tspan)[:,0] # compute the approximate solution\n",
    "\n",
    "plt.plot(tspan, y_exact, label='Exact solution')\n",
    "plt.plot(tspan, y_approx, label='Approximate solution')\n",
    "plt.legend()\n",
    "plt.xlabel('t')\n",
    "plt.ylabel('y(t)')\n",
    "plt.show()"
   ]
  },
  {
   "cell_type": "code",
   "execution_count": 78,
   "metadata": {},
   "outputs": [
    {
     "name": "stdout",
     "output_type": "stream",
     "text": [
      "[ 2.0000000e+00 -2.1805129e-12]\n"
     ]
    },
    {
     "data": {
      "text/plain": [
       "[<matplotlib.lines.Line2D at 0x7facbf8399a0>]"
      ]
     },
     "execution_count": 78,
     "metadata": {},
     "output_type": "execute_result"
    },
    {
     "data": {
      "image/png": "[encoded data removed]",
      "text/plain": [
       "<Figure size 640x480 with 1 Axes>"
      ]
     },
     "metadata": {},
     "output_type": "display_data"
    }
   ],
   "source": [
    "#linear regressino\n",
    "import numpy as np\n",
    "from scipy.optimize import curve_fit\n",
    "import matplotlib.pyplot as plt\n",
    "\n",
    "xs = np.array([1,2,3,4,5,6])\n",
    "\n",
    "ys= np.array([2,4,6,8,10,12])\n",
    "\n",
    "def f(m,x,c):\n",
    "    return m*x+c\n",
    "\n",
    "\n",
    "popt, pcov = curve_fit(f , xs,ys)\n",
    "print(popt) \n",
    "pcov\n",
    "fig, ax = plt.subplots()\n",
    "ax.plot(xs,f(popt[0],xs,popt[1]))"
   ]
  },
  {
   "cell_type": "code",
   "execution_count": null,
   "metadata": {},
   "outputs": [],
   "source": [
    "#cartesian product of a set\n",
    "def cartesian_product(A, B):\n",
    "    product_set = set()\n",
    "    for a in A:\n",
    "        for b in B:\n",
    "            product_set.add((a, b))\n",
    "    return product_set"
   ]
  },
  {
   "cell_type": "code",
   "execution_count": 94,
   "metadata": {},
   "outputs": [
    {
     "name": "stdout",
     "output_type": "stream",
     "text": [
      "Cipher text is \n",
      "3d0f0b443b041f044e27061d1a041c\n",
      "Plain text is \n",
      "One Time Cipher\n"
     ]
    }
   ],
   "source": [
    "#decipher\n",
    "import onetimepad\n",
    "cipher = onetimepad.encrypt('One Time Cipher', 'random')\n",
    "print(\"Cipher text is \")\n",
    "print(cipher)\n",
    "print(\"Plain text is \")\n",
    "key='random'\n",
    "msg = onetimepad.decrypt(cipher, key)\n",
    "\n",
    "print(msg)"
   ]
  }
 ],
 "metadata": {
  "kernelspec": {
   "display_name": "Python 3",
   "language": "python",
   "name": "python3"
  },
  "language_info": {
   "codemirror_mode": {
    "name": "ipython",
    "version": 3
   },
   "file_extension": ".py",
   "mimetype": "text/x-python",
   "name": "python",
   "nbconvert_exporter": "python",
   "pygments_lexer": "ipython3",
   "version": "3.8.10"
  },
  "orig_nbformat": 4,
  "vscode": {
   "interpreter": {
    "hash": "e7370f93d1d0cde622a1f8e1c04877d8463912d04d973331ad4851f04de6915a"
   }
  }
 },
 "nbformat": 4,
 "nbformat_minor": 2
}
